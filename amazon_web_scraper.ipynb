{
  "cells": [
    {
      "cell_type": "markdown",
      "metadata": {
        "id": "view-in-github",
        "colab_type": "text"
      },
      "source": [
        "<a href=\"https://colab.research.google.com/github/anutom20/Amazon_web_scraping/blob/main/amazon_web_scraper.ipynb\" target=\"_parent\"><img src=\"https://colab.research.google.com/assets/colab-badge.svg\" alt=\"Open In Colab\"/></a>"
      ]
    },
    {
      "cell_type": "code",
      "execution_count": 1,
      "metadata": {
        "id": "a8Mpr45muT_Y"
      },
      "outputs": [],
      "source": [
        "import csv\n",
        "from bs4 import BeautifulSoup"
      ]
    },
    {
      "cell_type": "code",
      "execution_count": 2,
      "metadata": {
        "colab": {
          "base_uri": "https://localhost:8080/"
        },
        "id": "6FxQ0Dqw3ziE",
        "outputId": "cdda65b4-9e53-4040-c5c8-561bb360b32f"
      },
      "outputs": [
        {
          "output_type": "stream",
          "name": "stdout",
          "text": [
            "\u001b[33m\r0% [Working]\u001b[0m\r            \rGet:1 http://security.ubuntu.com/ubuntu bionic-security InRelease [88.7 kB]\n",
            "Get:2 https://cloud.r-project.org/bin/linux/ubuntu bionic-cran40/ InRelease [3,626 B]\n",
            "Ign:3 https://developer.download.nvidia.com/compute/machine-learning/repos/ubuntu1804/x86_64  InRelease\n",
            "Hit:4 https://developer.download.nvidia.com/compute/cuda/repos/ubuntu1804/x86_64  InRelease\n",
            "Hit:5 https://developer.download.nvidia.com/compute/machine-learning/repos/ubuntu1804/x86_64  Release\n",
            "Hit:6 http://archive.ubuntu.com/ubuntu bionic InRelease\n",
            "Hit:7 http://ppa.launchpad.net/c2d4u.team/c2d4u4.0+/ubuntu bionic InRelease\n",
            "Get:8 http://archive.ubuntu.com/ubuntu bionic-updates InRelease [88.7 kB]\n",
            "Hit:9 http://ppa.launchpad.net/cran/libgit2/ubuntu bionic InRelease\n",
            "Hit:10 http://ppa.launchpad.net/deadsnakes/ppa/ubuntu bionic InRelease\n",
            "Get:11 http://archive.ubuntu.com/ubuntu bionic-backports InRelease [83.3 kB]\n",
            "Hit:12 http://ppa.launchpad.net/graphics-drivers/ppa/ubuntu bionic InRelease\n",
            "Get:13 http://security.ubuntu.com/ubuntu bionic-security/universe amd64 Packages [1,561 kB]\n",
            "Get:14 http://security.ubuntu.com/ubuntu bionic-security/restricted amd64 Packages [1,259 kB]\n",
            "Get:15 http://security.ubuntu.com/ubuntu bionic-security/main amd64 Packages [3,066 kB]\n",
            "Get:17 http://archive.ubuntu.com/ubuntu bionic-updates/universe amd64 Packages [2,336 kB]\n",
            "Get:18 http://archive.ubuntu.com/ubuntu bionic-updates/main amd64 Packages [3,492 kB]\n",
            "Get:19 http://archive.ubuntu.com/ubuntu bionic-updates/restricted amd64 Packages [1,300 kB]\n",
            "Get:20 http://archive.ubuntu.com/ubuntu bionic-updates/multiverse amd64 Packages [29.8 kB]\n",
            "Fetched 13.3 MB in 5s (2,717 kB/s)\n",
            "Reading package lists... Done\n",
            "Building dependency tree       \n",
            "Reading state information... Done\n",
            "5 packages can be upgraded. Run 'apt list --upgradable' to see them.\n",
            "Reading package lists... Done\n",
            "Building dependency tree       \n",
            "Reading state information... Done\n",
            "The following package was automatically installed and is no longer required:\n",
            "  libnvidia-common-460\n",
            "Use 'apt autoremove' to remove it.\n",
            "The following additional packages will be installed:\n",
            "  chromium-browser chromium-browser-l10n chromium-codecs-ffmpeg-extra\n",
            "Suggested packages:\n",
            "  webaccounts-chromium-extension unity-chromium-extension\n",
            "The following NEW packages will be installed:\n",
            "  chromium-browser chromium-browser-l10n chromium-chromedriver\n",
            "  chromium-codecs-ffmpeg-extra\n",
            "0 upgraded, 4 newly installed, 0 to remove and 5 not upgraded.\n",
            "Need to get 95.1 MB of archives.\n",
            "After this operation, 319 MB of additional disk space will be used.\n",
            "Get:1 http://archive.ubuntu.com/ubuntu bionic-updates/universe amd64 chromium-codecs-ffmpeg-extra amd64 107.0.5304.87-0ubuntu11.18.04.1 [1,158 kB]\n",
            "Get:2 http://archive.ubuntu.com/ubuntu bionic-updates/universe amd64 chromium-browser amd64 107.0.5304.87-0ubuntu11.18.04.1 [83.1 MB]\n",
            "Get:3 http://archive.ubuntu.com/ubuntu bionic-updates/universe amd64 chromium-browser-l10n all 107.0.5304.87-0ubuntu11.18.04.1 [5,260 kB]\n",
            "Get:4 http://archive.ubuntu.com/ubuntu bionic-updates/universe amd64 chromium-chromedriver amd64 107.0.5304.87-0ubuntu11.18.04.1 [5,570 kB]\n",
            "Fetched 95.1 MB in 4s (24.0 MB/s)\n",
            "Selecting previously unselected package chromium-codecs-ffmpeg-extra.\n",
            "(Reading database ... 123991 files and directories currently installed.)\n",
            "Preparing to unpack .../chromium-codecs-ffmpeg-extra_107.0.5304.87-0ubuntu11.18.04.1_amd64.deb ...\n",
            "Unpacking chromium-codecs-ffmpeg-extra (107.0.5304.87-0ubuntu11.18.04.1) ...\n",
            "Selecting previously unselected package chromium-browser.\n",
            "Preparing to unpack .../chromium-browser_107.0.5304.87-0ubuntu11.18.04.1_amd64.deb ...\n",
            "Unpacking chromium-browser (107.0.5304.87-0ubuntu11.18.04.1) ...\n",
            "Selecting previously unselected package chromium-browser-l10n.\n",
            "Preparing to unpack .../chromium-browser-l10n_107.0.5304.87-0ubuntu11.18.04.1_all.deb ...\n",
            "Unpacking chromium-browser-l10n (107.0.5304.87-0ubuntu11.18.04.1) ...\n",
            "Selecting previously unselected package chromium-chromedriver.\n",
            "Preparing to unpack .../chromium-chromedriver_107.0.5304.87-0ubuntu11.18.04.1_amd64.deb ...\n",
            "Unpacking chromium-chromedriver (107.0.5304.87-0ubuntu11.18.04.1) ...\n",
            "Setting up chromium-codecs-ffmpeg-extra (107.0.5304.87-0ubuntu11.18.04.1) ...\n",
            "Setting up chromium-browser (107.0.5304.87-0ubuntu11.18.04.1) ...\n",
            "update-alternatives: using /usr/bin/chromium-browser to provide /usr/bin/x-www-browser (x-www-browser) in auto mode\n",
            "update-alternatives: using /usr/bin/chromium-browser to provide /usr/bin/gnome-www-browser (gnome-www-browser) in auto mode\n",
            "Setting up chromium-chromedriver (107.0.5304.87-0ubuntu11.18.04.1) ...\n",
            "Setting up chromium-browser-l10n (107.0.5304.87-0ubuntu11.18.04.1) ...\n",
            "Processing triggers for man-db (2.8.3-2ubuntu0.1) ...\n",
            "Processing triggers for hicolor-icon-theme (0.17-2) ...\n",
            "Processing triggers for mime-support (3.60ubuntu1) ...\n",
            "Processing triggers for libc-bin (2.27-3ubuntu1.6) ...\n",
            "Looking in indexes: https://pypi.org/simple, https://us-python.pkg.dev/colab-wheels/public/simple/\n",
            "Collecting selenium\n",
            "  Downloading selenium-4.6.0-py3-none-any.whl (5.2 MB)\n",
            "\u001b[K     |████████████████████████████████| 5.2 MB 5.4 MB/s \n",
            "\u001b[?25hRequirement already satisfied: certifi>=2021.10.8 in /usr/local/lib/python3.7/dist-packages (from selenium) (2022.9.24)\n",
            "Collecting trio~=0.17\n",
            "  Downloading trio-0.22.0-py3-none-any.whl (384 kB)\n",
            "\u001b[K     |████████████████████████████████| 384 kB 60.8 MB/s \n",
            "\u001b[?25hCollecting urllib3[socks]~=1.26\n",
            "  Downloading urllib3-1.26.12-py2.py3-none-any.whl (140 kB)\n",
            "\u001b[K     |████████████████████████████████| 140 kB 62.0 MB/s \n",
            "\u001b[?25hCollecting trio-websocket~=0.9\n",
            "  Downloading trio_websocket-0.9.2-py3-none-any.whl (16 kB)\n",
            "Collecting async-generator>=1.9\n",
            "  Downloading async_generator-1.10-py3-none-any.whl (18 kB)\n",
            "Requirement already satisfied: attrs>=19.2.0 in /usr/local/lib/python3.7/dist-packages (from trio~=0.17->selenium) (22.1.0)\n",
            "Requirement already satisfied: idna in /usr/local/lib/python3.7/dist-packages (from trio~=0.17->selenium) (2.10)\n",
            "Collecting sniffio\n",
            "  Downloading sniffio-1.3.0-py3-none-any.whl (10 kB)\n",
            "Collecting exceptiongroup>=1.0.0rc9\n",
            "  Downloading exceptiongroup-1.0.4-py3-none-any.whl (14 kB)\n",
            "Collecting outcome\n",
            "  Downloading outcome-1.2.0-py2.py3-none-any.whl (9.7 kB)\n",
            "Requirement already satisfied: sortedcontainers in /usr/local/lib/python3.7/dist-packages (from trio~=0.17->selenium) (2.4.0)\n",
            "Collecting wsproto>=0.14\n",
            "  Downloading wsproto-1.2.0-py3-none-any.whl (24 kB)\n",
            "Requirement already satisfied: PySocks!=1.5.7,<2.0,>=1.5.6 in /usr/local/lib/python3.7/dist-packages (from urllib3[socks]~=1.26->selenium) (1.7.1)\n",
            "Collecting h11<1,>=0.9.0\n",
            "  Downloading h11-0.14.0-py3-none-any.whl (58 kB)\n",
            "\u001b[K     |████████████████████████████████| 58 kB 5.5 MB/s \n",
            "\u001b[?25hRequirement already satisfied: typing-extensions in /usr/local/lib/python3.7/dist-packages (from h11<1,>=0.9.0->wsproto>=0.14->trio-websocket~=0.9->selenium) (4.1.1)\n",
            "Installing collected packages: sniffio, outcome, h11, exceptiongroup, async-generator, wsproto, urllib3, trio, trio-websocket, selenium\n",
            "  Attempting uninstall: urllib3\n",
            "    Found existing installation: urllib3 1.24.3\n",
            "    Uninstalling urllib3-1.24.3:\n",
            "      Successfully uninstalled urllib3-1.24.3\n",
            "\u001b[31mERROR: pip's dependency resolver does not currently take into account all the packages that are installed. This behaviour is the source of the following dependency conflicts.\n",
            "requests 2.23.0 requires urllib3!=1.25.0,!=1.25.1,<1.26,>=1.21.1, but you have urllib3 1.26.12 which is incompatible.\u001b[0m\n",
            "Successfully installed async-generator-1.10 exceptiongroup-1.0.4 h11-0.14.0 outcome-1.2.0 selenium-4.6.0 sniffio-1.3.0 trio-0.22.0 trio-websocket-0.9.2 urllib3-1.26.12 wsproto-1.2.0\n"
          ]
        }
      ],
      "source": [
        "# install chromium, its driver, and selenium\n",
        "!apt update\n",
        "!apt install chromium-chromedriver\n",
        "!pip install selenium"
      ]
    },
    {
      "cell_type": "markdown",
      "metadata": {
        "id": "wtbjAmZNykrz"
      },
      "source": [
        "  Start The Webdriver\n",
        "  "
      ]
    },
    {
      "cell_type": "code",
      "execution_count": 3,
      "metadata": {
        "id": "oG2-xNA331k6"
      },
      "outputs": [],
      "source": [
        "# set options to be headless, ..\n",
        "from selenium import webdriver\n",
        "options = webdriver.ChromeOptions()\n",
        "options.add_argument('--headless')\n",
        "options.add_argument('--no-sandbox')\n",
        "options.add_argument('--disable-dev-shm-usage')"
      ]
    },
    {
      "cell_type": "code",
      "execution_count": 4,
      "metadata": {
        "id": "GvSAePC334MB"
      },
      "outputs": [],
      "source": [
        "# open it, go to the website, and get results\n",
        "wd = webdriver.Chrome('chromedriver',options=options)\n",
        "url = \"https://www.amazon.in/s?k=bags&crid=2M096C61O4MLT&qid=1653308124&sprefix=ba%2Caps%2C283&ref=sr_pg_1\"\n",
        "wd.get(url)"
      ]
    },
    {
      "cell_type": "markdown",
      "metadata": {
        "id": "ilRvu1Ugz412"
      },
      "source": [
        "Extract the collection"
      ]
    },
    {
      "cell_type": "code",
      "execution_count": 5,
      "metadata": {
        "id": "465XyJMa7y36"
      },
      "outputs": [],
      "source": [
        "soup = BeautifulSoup(wd.page_source, 'html.parser')"
      ]
    },
    {
      "cell_type": "code",
      "execution_count": 6,
      "metadata": {
        "id": "1gyrlt0e75rg"
      },
      "outputs": [],
      "source": [
        "results = soup.find_all('div', {'data-component-type' : 's-search-result'})"
      ]
    },
    {
      "cell_type": "code",
      "execution_count": 7,
      "metadata": {
        "colab": {
          "base_uri": "https://localhost:8080/"
        },
        "id": "2or3OUGz8E54",
        "outputId": "7aef5542-a93d-43f2-b573-d02ba44669f5"
      },
      "outputs": [
        {
          "output_type": "execute_result",
          "data": {
            "text/plain": [
              "16"
            ]
          },
          "metadata": {},
          "execution_count": 7
        }
      ],
      "source": [
        "len(results)"
      ]
    },
    {
      "cell_type": "markdown",
      "metadata": {
        "id": "TOTS9vgX9vfc"
      },
      "source": [
        "Prototype the Record"
      ]
    },
    {
      "cell_type": "code",
      "execution_count": 54,
      "metadata": {
        "id": "ahDoNWbt9x00"
      },
      "outputs": [],
      "source": [
        "item = results[1]\n"
      ]
    },
    {
      "cell_type": "code",
      "execution_count": 55,
      "metadata": {
        "id": "MEow2wmC93sF"
      },
      "outputs": [],
      "source": [
        "atag = item.h2.a"
      ]
    },
    {
      "cell_type": "code",
      "execution_count": 56,
      "metadata": {
        "id": "zuxdeP-H96Ee"
      },
      "outputs": [],
      "source": [
        "product_url = 'https://www.amazon.in' + atag.get('href')"
      ]
    },
    {
      "cell_type": "code",
      "execution_count": 57,
      "metadata": {
        "id": "cT1-afaw99AB"
      },
      "outputs": [],
      "source": [
        "price_parent = item.find('span','a-price')"
      ]
    },
    {
      "cell_type": "code",
      "execution_count": 58,
      "metadata": {
        "id": "8GuIU5l2_HOc"
      },
      "outputs": [],
      "source": [
        "product_price = price_parent.find('span' , 'a-offscreen').text[1:]"
      ]
    },
    {
      "cell_type": "code",
      "execution_count": 59,
      "metadata": {
        "id": "BrhpNuEU_WbA"
      },
      "outputs": [],
      "source": [
        "product_rating = item.i.text"
      ]
    },
    {
      "cell_type": "code",
      "execution_count": 60,
      "metadata": {
        "id": "yIPxTi0p_u_K"
      },
      "outputs": [],
      "source": [
        "product_name = item.h2.a.span.text"
      ]
    },
    {
      "cell_type": "code",
      "execution_count": 61,
      "metadata": {
        "id": "632ImNT1AREL"
      },
      "outputs": [],
      "source": [
        "no_of_reviews = item.find('span',{'class': 'a-size-base'}).text"
      ]
    },
    {
      "cell_type": "markdown",
      "source": [
        "PART-2 Get  Description , ASIN ,   Manufacturer & Product Description form the url for a single product"
      ],
      "metadata": {
        "id": "t3gCc57RfAhk"
      }
    },
    {
      "cell_type": "code",
      "source": [
        "# get single product information from the scraped url\n",
        "wd.get(product_url)\n",
        "single_prod_soup = BeautifulSoup(wd.page_source, 'html.parser')\n"
      ],
      "metadata": {
        "id": "l-8QeMbufPjl"
      },
      "execution_count": 62,
      "outputs": []
    },
    {
      "cell_type": "code",
      "source": [
        "#get single product description\n",
        "\n",
        "product_desc = single_prod_soup.find('div', {'id' : 'feature-bullets'}).find('ul')\n",
        "\n",
        "single_product_desc = ''\n",
        "for li in product_desc.find_all('li'):\n",
        "  single_product_desc += li.text\n",
        "print(single_product_desc)    "
      ],
      "metadata": {
        "id": "gIoxOqq3qxRm",
        "colab": {
          "base_uri": "https://localhost:8080/"
        },
        "outputId": "7ebe89eb-88c6-4bc7-cbe9-53111ed81f0f"
      },
      "execution_count": 63,
      "outputs": [
        {
          "output_type": "stream",
          "name": "stdout",
          "text": [
            " Combination of functional & safety features in stylish design, Soft mesh back with 8 mm foam padded 2 Main Compartment, 1 Slip In Pocket inside the bag, Printed Design, Mesh bottle holder on the side,  \n"
          ]
        }
      ]
    },
    {
      "cell_type": "code",
      "source": [
        "# get ASIN\n",
        "product_asin = product_url.split(\"/dp/\")[1].split(\"/ref\")[0]"
      ],
      "metadata": {
        "id": "s97Z9W8Jt3F2"
      },
      "execution_count": 64,
      "outputs": []
    },
    {
      "cell_type": "code",
      "source": [
        "#get product manufacturer\n",
        "manufacturer_text = single_prod_soup.find('a', {'id' : 'bylineInfo'}).text\n",
        "\n",
        "manufacturer = ''\n",
        "\n",
        "if(manufacturer_text.find('Visit') != -1 and manufacturer_text.find('Store') != -1):\n",
        "  manufacturer = manufacturer_text.split('the')[1].split('Store')[0]\n",
        "else:\n",
        "  manufacturer = manufacturer_text.split(':')[1]\n",
        "print(manufacturer)\n"
      ],
      "metadata": {
        "id": "4fZB62Pt5Qln",
        "colab": {
          "base_uri": "https://localhost:8080/"
        },
        "outputId": "2ef20333-e0ab-4bbd-889c-ecdad9a1876c"
      },
      "execution_count": 65,
      "outputs": [
        {
          "output_type": "stream",
          "name": "stdout",
          "text": [
            " Skybags \n"
          ]
        }
      ]
    },
    {
      "cell_type": "code",
      "source": [
        "#get product description\n",
        "prod_desc = single_prod_soup.find('div', {'id' : 'productDescription'})\n",
        "\n",
        "if prod_desc and prod_desc.p.text:\n",
        "  prod_desc = prod_desc.p.text\n",
        "else:\n",
        "  prod_desc = single_product_desc\n",
        "\n",
        "print(prod_desc)\n"
      ],
      "metadata": {
        "id": "FR_5O9NVvJqz",
        "colab": {
          "base_uri": "https://localhost:8080/"
        },
        "outputId": "d78cf2ec-5da2-4ed8-9b21-9e30027434ea"
      },
      "execution_count": 66,
      "outputs": [
        {
          "output_type": "stream",
          "name": "stdout",
          "text": [
            " Ideal for a college student who does not carry a lot of books or laptop to college. Very stylish, slim and feature loaded Backpack \n"
          ]
        }
      ]
    },
    {
      "cell_type": "markdown",
      "metadata": {
        "id": "HCHS8oU8CEYi"
      },
      "source": [
        "Generalize the pattern"
      ]
    },
    {
      "cell_type": "code",
      "execution_count": 21,
      "metadata": {
        "id": "w_AryHvZCGKk"
      },
      "outputs": [],
      "source": [
        "def extract_single_item(item):\n",
        "  # extract and return data from a single item\n",
        "\n",
        "  #Product Url\n",
        "  atag = item.h2.a\n",
        "  product_url = 'https://www.amazon.in' + atag.get('href')\n",
        "\n",
        "  #Product Name\n",
        "  product_name = item.h2.a.span.text\n",
        "  #Product Price\n",
        "  try:\n",
        "    price_parent = item.find('span','a-price')\n",
        "    product_price = price_parent.find('span' , 'a-offscreen').text[1:]\n",
        "  except AttributeError:\n",
        "    return\n",
        "    \n",
        "  try:\n",
        "    #Product Rating\n",
        "    product_rating = item.i.text\n",
        "\n",
        "    #No of reviews\n",
        "    no_of_reviews = item.find('span',{'class': 'a-size-base'}).text\n",
        "  except AttributeError:\n",
        "    product_rating = ''\n",
        "    no_of_reviews = ''\n",
        "\n",
        "\n",
        "  # part-2 , getting additional product info\n",
        "  wd.get(product_url)\n",
        "  single_product_soup = BeautifulSoup(wd.page_source, 'html.parser')\n",
        "\n",
        "    \n",
        "  #description\n",
        "\n",
        "  product_desc = single_product_soup.find('div', {'id' : 'feature-bullets'}).find('ul')\n",
        "\n",
        "  single_product_desc = ''\n",
        "  if product_desc:\n",
        "    for li in product_desc.find_all('li'):\n",
        "      single_product_desc += li.text  \n",
        "  else:\n",
        "    single_product_desc = 'Not available'\n",
        "\n",
        "    \n",
        "  # get ASIN\n",
        "  product_asin = ''\n",
        "  try:\n",
        "    product_asin = product_url.split(\"/dp/\")[1].split(\"/ref\")[0]\n",
        "  except:\n",
        "    product_asin = 'n/a'\n",
        "  #product manufacturer\n",
        "  try:\n",
        "    manufacturer_text = single_product_soup.find('a', {'id' : 'bylineInfo'}).text\n",
        "  except AttributeError:\n",
        "    manufacturer_text = ''\n",
        "\n",
        "  manufacturer = ''\n",
        "\n",
        "  if manufacturer_text:\n",
        "\n",
        "    if(manufacturer_text.find('Visit') != -1 and manufacturer_text.find('Store') != -1):\n",
        "      manufacturer = manufacturer_text.split('the')[1].split('Store')[0]\n",
        "    else:\n",
        "      manufacturer = manufacturer_text.split(':')[1]\n",
        "\n",
        "  #product description\n",
        "  prod_desc = single_product_soup.find('div', {'id' : 'productDescription'})\n",
        "\n",
        "  if prod_desc and prod_desc.p:\n",
        "    prod_desc = prod_desc.p.text\n",
        "  else:\n",
        "    prod_desc = single_product_desc\n",
        "  \n",
        "  \n",
        "\n",
        "\n",
        "\n",
        "\n",
        "  result = (product_url , product_name , product_price , product_rating , no_of_reviews, single_product_desc , product_asin , prod_desc , manufacturer)\n",
        "\n",
        "  return result\n",
        "\n",
        "\n",
        "\n",
        "\n",
        "\n",
        "\n"
      ]
    },
    {
      "cell_type": "markdown",
      "source": [
        "Store the products in a list"
      ],
      "metadata": {
        "id": "xdbLSC_unH0m"
      }
    },
    {
      "cell_type": "code",
      "execution_count": 22,
      "metadata": {
        "id": "DfRtnDFmEFCt"
      },
      "outputs": [],
      "source": [
        "records = []\n",
        "items = soup.find_all('div', {'data-component-type' : 's-search-result'})\n",
        "\n",
        "for item in items:\n",
        "  record = (extract_single_item(item))\n",
        "  if record:\n",
        "    records.append(record)"
      ]
    },
    {
      "cell_type": "code",
      "execution_count": 41,
      "metadata": {
        "id": "DfmTr3PwGoAx",
        "colab": {
          "base_uri": "https://localhost:8080/"
        },
        "outputId": "0d0e06ac-975c-4945-da79-188fc1d3fefd"
      },
      "outputs": [
        {
          "output_type": "execute_result",
          "data": {
            "text/plain": [
              "('https://www.amazon.in/Skybags-Brat-Black-Casual-Backpack/dp/B08Z1HHHTD/ref=sr_1_2?crid=2M096C61O4MLT&keywords=bags&qid=1668884721&qu=eyJxc2MiOiI4LjA0IiwicXNhIjoiOC4wNiIsInFzcCI6IjYuNzgifQ%3D%3D&sprefix=ba%2Caps%2C283&sr=8-2',\n",
              " 'Skybags Brat Black 46 Cms Casual Backpack',\n",
              " '669',\n",
              " '4.1 out of 5 stars',\n",
              " '2,558',\n",
              " ' Combination of functional & safety features in stylish design, Soft mesh back with 8 mm foam padded 2 Main Compartment, 1 Slip In Pocket inside the bag, Printed Design, Mesh bottle holder on the side,  ',\n",
              " 'B08Z1HHHTD',\n",
              " ' Ideal for a college student who does not carry a lot of books or laptop to college. Very stylish, slim and feature loaded Backpack ',\n",
              " ' Skybags ')"
            ]
          },
          "metadata": {},
          "execution_count": 41
        }
      ],
      "source": [
        "records[1]"
      ]
    },
    {
      "cell_type": "markdown",
      "metadata": {
        "id": "DVIKZBzQJara"
      },
      "source": [
        "Getting next page"
      ]
    },
    {
      "cell_type": "code",
      "execution_count": 24,
      "metadata": {
        "id": "_NHiJC3VJkXj"
      },
      "outputs": [],
      "source": [
        "def get_url(page_no):\n",
        "  template  = \"https://www.amazon.in/s?k=bags&crid=2M096C61O4MLT&qid=1653308124&sprefix=ba%2Caps%2C283&ref=sr_pg_1\"\n",
        "\n",
        "  # add page no to the url\n",
        "  template += '&page={}'\n",
        "  url = template.format(str(page_no))\n",
        "  return url\n",
        "\n"
      ]
    },
    {
      "cell_type": "markdown",
      "source": [
        "Getting Complete Data From All The 20 Pages"
      ],
      "metadata": {
        "id": "6COaz6MNjYoI"
      }
    },
    {
      "cell_type": "code",
      "source": [
        "def get_complete_data():\n",
        "  records = []\n",
        "  for page in range (1,21):\n",
        "    url = get_url(page)\n",
        "    wd.get(url)\n",
        "    soup = BeautifulSoup(wd.page_source, 'html.parser')\n",
        "    items = soup.find_all('div', {'data-component-type' : 's-search-result'})\n",
        "\n",
        "    for item in items:\n",
        "      record = (extract_single_item(item))\n",
        "      if record:\n",
        "        records.append(record)\n",
        "  return records      \n",
        "       \n",
        "\n"
      ],
      "metadata": {
        "id": "U7LDAt3-jc5_"
      },
      "execution_count": 25,
      "outputs": []
    },
    {
      "cell_type": "markdown",
      "source": [
        "Getting Final Result"
      ],
      "metadata": {
        "id": "HA4GDlfmnO05"
      }
    },
    {
      "cell_type": "code",
      "source": [
        "final_res = get_complete_data()\n",
        "len(final_res)\n"
      ],
      "metadata": {
        "id": "Gdxwd03omXr8",
        "colab": {
          "base_uri": "https://localhost:8080/"
        },
        "outputId": "d98b62dc-798c-480b-cf50-9dfba308155e"
      },
      "execution_count": 26,
      "outputs": [
        {
          "output_type": "execute_result",
          "data": {
            "text/plain": [
              "329"
            ]
          },
          "metadata": {},
          "execution_count": 26
        }
      ]
    },
    {
      "cell_type": "code",
      "source": [
        "final_res[0:5]"
      ],
      "metadata": {
        "id": "tmumFvEPCU3D",
        "colab": {
          "base_uri": "https://localhost:8080/"
        },
        "outputId": "40fef69c-96c6-44dc-e299-9fedc780750c"
      },
      "execution_count": 27,
      "outputs": [
        {
          "output_type": "execute_result",
          "data": {
            "text/plain": [
              "[('https://www.amazon.in/Half-Moon-Waterproof-Backpack-Students/dp/B085MHDJ93/ref=sr_1_1?crid=2M096C61O4MLT&keywords=bags&qid=1668884793&qu=eyJxc2MiOiI4LjA0IiwicXNhIjoiOC4wNiIsInFzcCI6IjYuNzgifQ%3D%3D&sprefix=ba%2Caps%2C283&sr=8-1',\n",
              "  'Half Moon 35 L Casual Waterproof Laptop Bag/Backpack for Men Women Boys Girls/Office School College Teens & Students with Rain Cover (18 Inch) (Navy)',\n",
              "  '699',\n",
              "  '3.9 out of 5 stars',\n",
              "  '13,861',\n",
              "  ' SPACIOUS AND LIGHTWEIGHT: Light weight and spacious laptop backpack with 3 compartments. One compartment is for carrying laptop inside (Upto 17 inches), with padding for safety, and space for laptop accessories like charger, etc. Second large compartment for books, files and all your day to day essentials. And third compartment is for your extra stuff. It has provision for holding bottles on both sides and has padded shoulder straps for your comfort   COMFORT WITH QUALITY: This casual bag has Wide, Padded and Adjustable shoulder straps and Padded Back for comfort in carrying heavy items. Stitched properly and Bartacks on every pressure point for extra durability. Made with strong yet light weight polyester fabric with heavy zippers. Serves the need of a professional office laptop bag, college bag, student backpack, school bag and is suitable for all, i.e. boys, girls, men? and women?   PREMIUM FABRIC : Premium Polyester, Stylish and durable backpack for school /college and travel. Easily accommodate a laptop. Size: 45 cm X 31 cm X 22 cm; BACK SUPPORT: We have designed the bag keeping your comfort in mind. Shoulder has high density padding, with 3D ventilated air foam padding to prevent sweating when you use the bag & to help you lift heavy objects easily.   OTHER FEATURES: Strong and durable zippers, Adjustable Shoulder Handles (Straps) , 2 Bottle/Umbrella holders , Padded Handle , Padded Laptop Compartment (can carry laptops of size 13, 14, 15.6 & 17 inches), Reflector Logo.   Water Resistance Level: Water Resistant; Lining Description: Nylon; Warranty Description: 9 Months Warranty On Manufacturing Defects Only; Age Range Description: Adult; Pattern Name: Solid; Pocket Description: Utility Pocket; Compartment Description: Up To 17 Inches  ',\n",
              "  'B085MHDJ93',\n",
              "  ' SPACIOUS AND LIGHTWEIGHT: Light weight and spacious laptop backpack with 3 compartments. One compartment is for carrying laptop inside (Upto 17 inches), with padding for safety, and space for laptop accessories like charger, etc. Second large compartment for books, files and all your day to day essentials. And third compartment is for your extra stuff. It has provision for holding bottles on both sides and has padded shoulder straps for your comfort   COMFORT WITH QUALITY: This casual bag has Wide, Padded and Adjustable shoulder straps and Padded Back for comfort in carrying heavy items. Stitched properly and Bartacks on every pressure point for extra durability. Made with strong yet light weight polyester fabric with heavy zippers. Serves the need of a professional office laptop bag, college bag, student backpack, school bag and is suitable for all, i.e. boys, girls, men? and women?   PREMIUM FABRIC : Premium Polyester, Stylish and durable backpack for school /college and travel. Easily accommodate a laptop. Size: 45 cm X 31 cm X 22 cm; BACK SUPPORT: We have designed the bag keeping your comfort in mind. Shoulder has high density padding, with 3D ventilated air foam padding to prevent sweating when you use the bag & to help you lift heavy objects easily.   OTHER FEATURES: Strong and durable zippers, Adjustable Shoulder Handles (Straps) , 2 Bottle/Umbrella holders , Padded Handle , Padded Laptop Compartment (can carry laptops of size 13, 14, 15.6 & 17 inches), Reflector Logo.   Water Resistance Level: Water Resistant; Lining Description: Nylon; Warranty Description: 9 Months Warranty On Manufacturing Defects Only; Age Range Description: Adult; Pattern Name: Solid; Pocket Description: Utility Pocket; Compartment Description: Up To 17 Inches  ',\n",
              "  ' Half Moon'),\n",
              " ('https://www.amazon.in/Skybags-Brat-Black-Casual-Backpack/dp/B08Z1HHHTD/ref=sr_1_2?crid=2M096C61O4MLT&keywords=bags&qid=1668884793&qu=eyJxc2MiOiI4LjA0IiwicXNhIjoiOC4wNiIsInFzcCI6IjYuNzgifQ%3D%3D&sprefix=ba%2Caps%2C283&sr=8-2',\n",
              "  'Skybags Brat Black 46 Cms Casual Backpack',\n",
              "  '669',\n",
              "  '4.1 out of 5 stars',\n",
              "  '2,558',\n",
              "  ' Combination of functional & safety features in stylish design, Soft mesh back with 8 mm foam padded 2 Main Compartment, 1 Slip In Pocket inside the bag, Printed Design, Mesh bottle holder on the side,  ',\n",
              "  'B08Z1HHHTD',\n",
              "  ' Ideal for a college student who does not carry a lot of books or laptop to college. Very stylish, slim and feature loaded Backpack ',\n",
              "  ' Skybags '),\n",
              " ('https://www.amazon.in/TRUE-HUMAN-Anti-Theft-backpack-charging/dp/B09QJ7ZF2Y/ref=sr_1_3?crid=2M096C61O4MLT&keywords=bags&qid=1668884793&qu=eyJxc2MiOiI4LjA0IiwicXNhIjoiOC4wNiIsInFzcCI6IjYuNzgifQ%3D%3D&sprefix=ba%2Caps%2C283&sr=8-3',\n",
              "  'TRUE HUMAN Emperor Legend Anti-Theft backpack With USB charging Port and anti -theft back pocket - Black',\n",
              "  '715',\n",
              "  '3.8 out of 5 stars',\n",
              "  '1,279',\n",
              "  ' ➧ PREMIUM MATERIAL: Made from high quality, material in grey color. Premium quality smooth zippers, pullers, buckles.   The material is the reversed side of 1680D special polyester, which is a anti-scratch and built for lasting durability.  ',\n",
              "  'B09QJ7ZF2Y',\n",
              "  ' ➧ PREMIUM MATERIAL: Made from high quality, material in grey color. Premium quality smooth zippers, pullers, buckles.   The material is the reversed side of 1680D special polyester, which is a anti-scratch and built for lasting durability.  ',\n",
              "  ' TRUE HUMAN '),\n",
              " ('https://www.amazon.in/American-Tourister-AMT-SCH-02/dp/B07CJCGM1M/ref=sr_1_4?crid=2M096C61O4MLT&keywords=bags&qid=1668884793&qu=eyJxc2MiOiI4LjA0IiwicXNhIjoiOC4wNiIsInFzcCI6IjYuNzgifQ%3D%3D&sprefix=ba%2Caps%2C283&sr=8-4',\n",
              "  'American Tourister 32 Ltrs Black Casual Backpack (AMT FIZZ SCH BAG 02 - BLACK)',\n",
              "  '1,099',\n",
              "  '4.1 out of 5 stars',\n",
              "  '48,770',\n",
              "  ' Laptop Compatibility: No, Strap Type: Adjustable, Trolley Support: No. With Rain Cover : No   Outer Material: Polyester, Color: Black   Water Resistance: Water resistant , not Waterproof   Capacity: 32 liters; Dimensions: 32.5 cms x 18 cms x 50 cms (LxWxH)   Number of Wheels: 0, Number of compartments: 3   Warranty type: Manufacturer; 1 year International warranty valid for 1 year from the original date of   Mesh pockets on both sides to accommodate your sipper or bottle and umbrella  ',\n",
              "  'B07CJCGM1M',\n",
              "  ' Laptop Compatibility: No, Strap Type: Adjustable, Trolley Support: No. With Rain Cover : No   Outer Material: Polyester, Color: Black   Water Resistance: Water resistant , not Waterproof   Capacity: 32 liters; Dimensions: 32.5 cms x 18 cms x 50 cms (LxWxH)   Number of Wheels: 0, Number of compartments: 3   Warranty type: Manufacturer; 1 year International warranty valid for 1 year from the original date of   Mesh pockets on both sides to accommodate your sipper or bottle and umbrella  ',\n",
              "  ' American Tourister '),\n",
              " ('https://www.amazon.in/TRUE-HUMAN-Anti-Theft-charging-combination/dp/B09H7PK5ML/ref=sr_1_5?crid=2M096C61O4MLT&keywords=bags&qid=1668884793&qu=eyJxc2MiOiI4LjA0IiwicXNhIjoiOC4wNiIsInFzcCI6IjYuNzgifQ%3D%3D&sprefix=ba%2Caps%2C283&sr=8-5',\n",
              "  'TRUE HUMAN Anti-Theft and USB Charging Port Backpack with Combination Lock Laptop Bag (Grey)',\n",
              "  '699',\n",
              "  '3.8 out of 5 stars',\n",
              "  '1,412',\n",
              "  ' ➧ PREMIUM MATERIAL: Made from high quality. Premium quality smooth zippers, pullers, buckles.  ',\n",
              "  'B09H7PK5ML',\n",
              "  ' ➧ PREMIUM MATERIAL: Made from high quality. Premium quality smooth zippers, pullers, buckles.  ',\n",
              "  ' TRUE HUMAN ')]"
            ]
          },
          "metadata": {},
          "execution_count": 27
        }
      ]
    },
    {
      "cell_type": "markdown",
      "source": [
        "Writing the results to the CSV file"
      ],
      "metadata": {
        "id": "mSbH_E0kYPNk"
      }
    },
    {
      "cell_type": "code",
      "source": [
        "# save data to a csv file\n",
        "\n",
        "with open ('amazon_scraping_results.csv', 'w' , newline='', encoding='utf-8') as f:\n",
        "  writer = csv.writer(f)\n",
        "  writer.writerow(['ProductUrl','ProductName', 'Price', 'Rating', 'NoOfReviews', 'Description', 'ASIN', 'Product Description', 'Manufacturer'])\n",
        "  writer.writerows(final_res)"
      ],
      "metadata": {
        "id": "tm1WSqUpYTIq"
      },
      "execution_count": 29,
      "outputs": []
    }
  ],
  "metadata": {
    "colab": {
      "provenance": [],
      "authorship_tag": "ABX9TyPXW1oM6Us0i63A/GU8/nD+",
      "include_colab_link": true
    },
    "kernelspec": {
      "display_name": "Python 3",
      "name": "python3"
    },
    "language_info": {
      "name": "python"
    }
  },
  "nbformat": 4,
  "nbformat_minor": 0
}